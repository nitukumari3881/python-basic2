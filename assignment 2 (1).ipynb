{
 "cells": [
  {
   "cell_type": "markdown",
   "id": "d3e2a65b",
   "metadata": {},
   "source": [
    "## Q1 What are the two values of the *Boolean data* type? How do you write them?\n"
   ]
  },
  {
   "cell_type": "code",
   "execution_count": 32,
   "id": "eb106d02",
   "metadata": {},
   "outputs": [],
   "source": [
    "#boolean data types\n",
    "a=True\n",
    "b=False\n",
    " #boolean data type will tell that the give argument is true or not\n"
   ]
  },
  {
   "cell_type": "code",
   "execution_count": 33,
   "id": "37b261fc",
   "metadata": {},
   "outputs": [
    {
     "data": {
      "text/plain": [
       "bool"
      ]
     },
     "execution_count": 33,
     "metadata": {},
     "output_type": "execute_result"
    }
   ],
   "source": [
    "type(a)"
   ]
  },
  {
   "cell_type": "code",
   "execution_count": 34,
   "id": "622841f2",
   "metadata": {},
   "outputs": [
    {
     "data": {
      "text/plain": [
       "bool"
      ]
     },
     "execution_count": 34,
     "metadata": {},
     "output_type": "execute_result"
    }
   ],
   "source": [
    "type(b)\n"
   ]
  },
  {
   "cell_type": "code",
   "execution_count": 35,
   "id": "1bf46858",
   "metadata": {},
   "outputs": [
    {
     "data": {
      "text/plain": [
       "True"
      ]
     },
     "execution_count": 35,
     "metadata": {},
     "output_type": "execute_result"
    }
   ],
   "source": [
    "##example\n",
    "10<15\n"
   ]
  },
  {
   "cell_type": "markdown",
   "id": "f2ec401b",
   "metadata": {},
   "source": [
    "# Q2 what are the three different types of Boolean operators?"
   ]
  },
  {
   "cell_type": "markdown",
   "id": "8584d579",
   "metadata": {},
   "source": [
    "\n",
    "#AND, OR, and NOT\n",
    "Placing the AND operator between two conditions means that both conditions must be met in order for the result to be “true”.\n",
    "\n",
    "With the OR operator, only one condition has to be met for the result to be “true”.\n",
    "\n",
    "When NOT is used, all the conditions except the excluded ones must be true."
   ]
  },
  {
   "cell_type": "markdown",
   "id": "46aae82b",
   "metadata": {},
   "source": [
    "# Q3 Make a list of each Boolean operator's truth tables (i.e. every possible combination of Boolean tables\n",
    "# (i.e. every possible combination of Boolean values for the operator and what it evaluate)\n",
    "\n",
    " "
   ]
  },
  {
   "cell_type": "code",
   "execution_count": 24,
   "id": "7bff6957",
   "metadata": {},
   "outputs": [],
   "source": [
    "#+=or\n",
    "#*=and\n",
    "#0= False\n",
    "#1= True\n",
    "\n",
    "\n",
    "#    x y= x+y                          \n",
    "#    0 0 =0                            \n",
    "#    0 1=1\n",
    "#    1 0=1\n",
    "#    1 1=1\n",
    "#    x or y\n",
    "#    False or False is False\n",
    "#    False or True  is True\n",
    "#    True or False  is True\n",
    "#    True or True  is True\n",
    "\n",
    "\n",
    "#     X Y= x * y\n",
    "#     0 0 =0\n",
    "#     0 1 = 0\n",
    "#     1 0= 0\n",
    "#     1 1= 1\n",
    "\n",
    "\n",
    "#     x and y\n",
    "#     False and False is False\n",
    "#     False and True is False\n",
    "#     True and False is False\n",
    "#     True and True is True\n"
   ]
  },
  {
   "cell_type": "markdown",
   "id": "815a317a",
   "metadata": {},
   "source": [
    "# Q4 What are the values of the following expressions?\n",
    "      (5 > 4) and (3 == 5)\n",
    "       not (5 >4)\n",
    "      (5 > 4) or (3 == 5)\n",
    "      not ((5 >4) or (3 == 5))\n",
    "      (True and True) and (True == False)\n",
    "       (not False) or (not True)"
   ]
  },
  {
   "cell_type": "code",
   "execution_count": 25,
   "id": "f2207aa0",
   "metadata": {},
   "outputs": [
    {
     "data": {
      "text/plain": [
       "False"
      ]
     },
     "execution_count": 25,
     "metadata": {},
     "output_type": "execute_result"
    }
   ],
   "source": [
    "(5 > 4) and (3 == 5)"
   ]
  },
  {
   "cell_type": "code",
   "execution_count": 26,
   "id": "61e3ac26",
   "metadata": {},
   "outputs": [
    {
     "data": {
      "text/plain": [
       "False"
      ]
     },
     "execution_count": 26,
     "metadata": {},
     "output_type": "execute_result"
    }
   ],
   "source": [
    "not (5 >4)"
   ]
  },
  {
   "cell_type": "code",
   "execution_count": 27,
   "id": "61cb20bf",
   "metadata": {},
   "outputs": [
    {
     "data": {
      "text/plain": [
       "True"
      ]
     },
     "execution_count": 27,
     "metadata": {},
     "output_type": "execute_result"
    }
   ],
   "source": [
    "(5 > 4) or (3 == 5)"
   ]
  },
  {
   "cell_type": "code",
   "execution_count": 28,
   "id": "dc103a93",
   "metadata": {},
   "outputs": [
    {
     "data": {
      "text/plain": [
       "False"
      ]
     },
     "execution_count": 28,
     "metadata": {},
     "output_type": "execute_result"
    }
   ],
   "source": [
    " not ((5 >4) or (3 == 5))"
   ]
  },
  {
   "cell_type": "code",
   "execution_count": 29,
   "id": "8fb86992",
   "metadata": {},
   "outputs": [
    {
     "data": {
      "text/plain": [
       "False"
      ]
     },
     "execution_count": 29,
     "metadata": {},
     "output_type": "execute_result"
    }
   ],
   "source": [
    "(True and True) and (True == False)"
   ]
  },
  {
   "cell_type": "code",
   "execution_count": 30,
   "id": "a0d4d762",
   "metadata": {},
   "outputs": [
    {
     "data": {
      "text/plain": [
       "True"
      ]
     },
     "execution_count": 30,
     "metadata": {},
     "output_type": "execute_result"
    }
   ],
   "source": [
    "(not False) or (not True)"
   ]
  },
  {
   "cell_type": "markdown",
   "id": "84ec730b",
   "metadata": {},
   "source": [
    " # Q5. What are the six comparison operators?\n",
    "\n"
   ]
  },
  {
   "cell_type": "code",
   "execution_count": 35,
   "id": "3c98b7a1",
   "metadata": {},
   "outputs": [
    {
     "name": "stdout",
     "output_type": "stream",
     "text": [
      "a is equal to b\n"
     ]
    }
   ],
   "source": [
    "# 1 equal to (==)\n",
    "#eg:-\n",
    "a=7\n",
    "b=7\n",
    "if a==b:\n",
    "    print(\"a is equal to b\")\n",
    "else:\n",
    "    print(\"a is not equal to b\")\n",
    "    \n",
    "    "
   ]
  },
  {
   "cell_type": "code",
   "execution_count": 36,
   "id": "80367768",
   "metadata": {},
   "outputs": [
    {
     "name": "stdout",
     "output_type": "stream",
     "text": [
      " a is not equal\n"
     ]
    }
   ],
   "source": [
    "#2 not equal to (!=)\n",
    "# eg:-\n",
    "a=8\n",
    "b=9\n",
    "if a!=b:\n",
    "    print(\" a is not equal\")\n",
    "else:\n",
    "    print(\"a is equal to b\")"
   ]
  },
  {
   "cell_type": "code",
   "execution_count": 37,
   "id": "49ebf401",
   "metadata": {},
   "outputs": [
    {
     "name": "stdout",
     "output_type": "stream",
     "text": [
      "a is not greater than b\n"
     ]
    }
   ],
   "source": [
    "#3 greater than(>)\n",
    "# eg:-\n",
    "a=8\n",
    "b=56\n",
    "if a >b:\n",
    "    print(\" a is greater than b\")\n",
    "else:\n",
    "    print(\"a is not greater than b\")"
   ]
  },
  {
   "cell_type": "code",
   "execution_count": 39,
   "id": "3caf32dc",
   "metadata": {},
   "outputs": [
    {
     "name": "stdout",
     "output_type": "stream",
     "text": [
      "a is less than b\n"
     ]
    }
   ],
   "source": [
    "#4 less than (<)\n",
    "#eg:-\n",
    "a=9\n",
    "b=4\n",
    "if b<a:\n",
    "    print(\"a is less than b\")\n",
    "else:\n",
    "    print(\"a is not less than b \")\n",
    "    "
   ]
  },
  {
   "cell_type": "code",
   "execution_count": 40,
   "id": "167e3f83",
   "metadata": {},
   "outputs": [
    {
     "name": "stdout",
     "output_type": "stream",
     "text": [
      "b is greater than or equal to a\n"
     ]
    }
   ],
   "source": [
    "#5 greater than equal to (>=)\n",
    "#eg:-\n",
    "a=10\n",
    "b=13\n",
    "if b >=a:\n",
    "    print(\"b is greater than or equal to a\")\n",
    "else:\n",
    "    print(\"b is not greater than or equal to a\")\n"
   ]
  },
  {
   "cell_type": "code",
   "execution_count": 41,
   "id": "7a37fe0d",
   "metadata": {},
   "outputs": [
    {
     "name": "stdout",
     "output_type": "stream",
     "text": [
      "b is not less than a\n"
     ]
    }
   ],
   "source": [
    "#6 less than equal to (<=)\n",
    "#eg:-\n",
    "a=10\n",
    "b=14\n",
    "if b<=a:\n",
    "    print(\"b is less than a\")\n",
    "else :\n",
    "    print(\"b is not less than a\")"
   ]
  },
  {
   "cell_type": "markdown",
   "id": "3e416047",
   "metadata": {},
   "source": [
    " so six comparison oprators are: ==, !=, <,>,<=,>="
   ]
  },
  {
   "cell_type": "markdown",
   "id": "754ff0cc",
   "metadata": {},
   "source": [
    "# Q 6. How do you tell the difference between the equal to and assignment operators?Describe a condition and when you would use one.\n"
   ]
  },
  {
   "cell_type": "code",
   "execution_count": 8,
   "id": "4f3b2a14",
   "metadata": {},
   "outputs": [
    {
     "name": "stdout",
     "output_type": "stream",
     "text": [
      "a is equal to the given value\n"
     ]
    }
   ],
   "source": [
    "#diffrence between equal to and assignment operators\n",
    "a=8\n",
    "b=9\n",
    "# i am assigning values to a and b \n",
    "if a==8:\n",
    "    print(\"a is equal to the given value\")\n",
    "\n",
    "    ## the above is termed as value assignment\n",
    "    \n"
   ]
  },
  {
   "cell_type": "markdown",
   "id": "b6a5800d",
   "metadata": {},
   "source": [
    "# Q7 Identify the three blocks in this code:\n",
    "    spam = 0\n",
    "    if spam == 10:\n",
    "    print(\"eggs\")\n",
    "    if spam==5:\n",
    "    print(\"bacon\")\n",
    "    else:\n",
    "    print(\"spam\")\n",
    "    print(\"spam\")\n",
    "    print(\"spam\")"
   ]
  },
  {
   "cell_type": "code",
   "execution_count": 6,
   "id": "36f14371",
   "metadata": {},
   "outputs": [
    {
     "ename": "SyntaxError",
     "evalue": "invalid syntax (Temp/ipykernel_15660/2188863537.py, line 1)",
     "output_type": "error",
     "traceback": [
      "\u001b[1;36m  File \u001b[1;32m\"C:\\Users\\Asus\\AppData\\Local\\Temp/ipykernel_15660/2188863537.py\"\u001b[1;36m, line \u001b[1;32m1\u001b[0m\n\u001b[1;33m    8. Write code that prints Hello if 1 is stored in spam, prints Howdy if 2 is stored in spam, and prints\u001b[0m\n\u001b[1;37m       ^\u001b[0m\n\u001b[1;31mSyntaxError\u001b[0m\u001b[1;31m:\u001b[0m invalid syntax\n"
     ]
    }
   ],
   "source": [
    "8. Write code that prints Hello if 1 is stored in spam, prints Howdy if 2 is stored in spam, and prints\n",
    "Greetings! if anything else is stored in spam."
   ]
  },
  {
   "cell_type": "markdown",
   "id": "c834539a",
   "metadata": {},
   "source": [
    "# Q8. Write code that prints Hello if 1 is stored in spam, prints Howdy if 2 is stored in spam, and prints Greetings! if anything else is stored in spam.\n",
    "\n",
    "\n",
    "\n"
   ]
  },
  {
   "cell_type": "code",
   "execution_count": 41,
   "id": "8d1a7107",
   "metadata": {},
   "outputs": [
    {
     "name": "stdout",
     "output_type": "stream",
     "text": [
      "1\n",
      "hello\n"
     ]
    }
   ],
   "source": [
    "spam=int(input())\n",
    "if spam==1:\n",
    "    print(\"hello\")\n",
    "elif spam==2:\n",
    "    print(\"howdy\")\n",
    "else:\n",
    "    print(\"greetings!\")"
   ]
  },
  {
   "cell_type": "code",
   "execution_count": 42,
   "id": "8ffe8f71",
   "metadata": {},
   "outputs": [
    {
     "name": "stdout",
     "output_type": "stream",
     "text": [
      "2\n",
      "howdy\n"
     ]
    }
   ],
   "source": [
    "spam=int(input())\n",
    "if spam==1:\n",
    "    print(\"hello\")\n",
    "elif spam==2:\n",
    "    print(\"howdy\")\n",
    "else:\n",
    "    print(\"greetings!\")"
   ]
  },
  {
   "cell_type": "code",
   "execution_count": 43,
   "id": "4afaac0e",
   "metadata": {},
   "outputs": [
    {
     "name": "stdout",
     "output_type": "stream",
     "text": [
      "8\n",
      "greetings!\n"
     ]
    }
   ],
   "source": [
    "spam=int(input())\n",
    "if spam==1:\n",
    "    print(\"hello\")\n",
    "elif spam==2:\n",
    "    print(\"howdy\")\n",
    "else:\n",
    "    print(\"greetings!\")"
   ]
  },
  {
   "cell_type": "code",
   "execution_count": null,
   "id": "c1356de0",
   "metadata": {},
   "outputs": [],
   "source": []
  }
 ],
 "metadata": {
  "kernelspec": {
   "display_name": "Python 3 (ipykernel)",
   "language": "python",
   "name": "python3"
  },
  "language_info": {
   "codemirror_mode": {
    "name": "ipython",
    "version": 3
   },
   "file_extension": ".py",
   "mimetype": "text/x-python",
   "name": "python",
   "nbconvert_exporter": "python",
   "pygments_lexer": "ipython3",
   "version": "3.9.7"
  }
 },
 "nbformat": 4,
 "nbformat_minor": 5
}
