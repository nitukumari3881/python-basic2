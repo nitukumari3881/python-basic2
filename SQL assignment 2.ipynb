{
 "cells": [
  {
   "cell_type": "code",
   "execution_count": null,
   "id": "a213b2a4",
   "metadata": {},
   "outputs": [],
   "source": [
    "Q-1. Write an SQL query to print the first three characters of  FIRST_NAME from Worker\n",
    "table.\n",
    " Q-2. Write an SQL query to find the position of the alphabet (‘a’) in the first name\n",
    "column ‘Amitabh’ from Worker table.\n",
    "Q-3. Write an SQL query to print the name of employees having the highest salary in each department."
   ]
  },
  {
   "cell_type": "markdown",
   "id": "dadd1dc8",
   "metadata": {},
   "source": [
    "# Q-1. Write an SQL query to print the first three characters of  FIRST_NAME from Worker table."
   ]
  },
  {
   "cell_type": "code",
   "execution_count": null,
   "id": "5fbdd056",
   "metadata": {},
   "outputs": [],
   "source": [
    "select substr(first_name,1,3) from worker limit 1;"
   ]
  },
  {
   "cell_type": "markdown",
   "id": "930fdd6a",
   "metadata": {},
   "source": [
    "# Q-2. Write an SQL query to find the position of the alphabet (‘a’) in the first name column ‘Amitabh’ from Worker table."
   ]
  },
  {
   "cell_type": "raw",
   "id": "85ee993b",
   "metadata": {},
   "source": [
    "# select position(\"a\" in first_name) from worker where name= \"Amitabh\";\n"
   ]
  },
  {
   "cell_type": "markdown",
   "id": "7edfcfa3",
   "metadata": {},
   "source": [
    "# Q-3. Write an SQL query to print the name of employees having the highest salary in each department"
   ]
  },
  {
   "cell_type": "raw",
   "id": "81a9a0b3",
   "metadata": {},
   "source": [
    "select max(salary) ,DEPARTMENT_ID,salary, FIRST_NAME from employees group by DEPARTMENT_ID ;"
   ]
  }
 ],
 "metadata": {
  "kernelspec": {
   "display_name": "Python 3 (ipykernel)",
   "language": "python",
   "name": "python3"
  },
  "language_info": {
   "codemirror_mode": {
    "name": "ipython",
    "version": 3
   },
   "file_extension": ".py",
   "mimetype": "text/x-python",
   "name": "python",
   "nbconvert_exporter": "python",
   "pygments_lexer": "ipython3",
   "version": "3.9.7"
  }
 },
 "nbformat": 4,
 "nbformat_minor": 5
}
