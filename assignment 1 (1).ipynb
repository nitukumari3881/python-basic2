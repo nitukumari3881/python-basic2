{
 "cells": [
  {
   "cell_type": "code",
   "execution_count": 2,
   "id": "b48d9574",
   "metadata": {},
   "outputs": [],
   "source": [
    "####     Q1.         In the below elements which of them are values or an expression? eg:- values can be\n",
    "##           integer or string and expressions will be mathematical operators\n",
    "\n",
    "##      *\n",
    "\n",
    "##    'hello'\n",
    "\n",
    "##    -87.8\n",
    "\n",
    "##     -\n",
    "\n",
    "##     /\n",
    "\n",
    "##    +\n",
    "\n",
    "##     6\n"
   ]
  },
  {
   "cell_type": "code",
   "execution_count": 9,
   "id": "8a6270a2",
   "metadata": {},
   "outputs": [],
   "source": [
    "#values= \"hello\",-87.8,6\n",
    "#expression= * ,-,/,+"
   ]
  },
  {
   "cell_type": "code",
   "execution_count": null,
   "id": "b67fd259",
   "metadata": {},
   "outputs": [],
   "source": [
    "#2"
   ]
  },
  {
   "cell_type": "code",
   "execution_count": 10,
   "id": "e4190693",
   "metadata": {},
   "outputs": [
    {
     "data": {
      "text/plain": [
       "'nitu'"
      ]
     },
     "execution_count": 10,
     "metadata": {},
     "output_type": "execute_result"
    }
   ],
   "source": [
    "####        Q2.       What is the difference between string and variable?\n",
    "\n",
    "\n",
    "\n",
    "##variable\n",
    "\n",
    "a=\"nitu\"\n",
    "\n",
    "#variable is a store of data like sting,integer,float .it is a location name where we want to save our information \n",
    "#in future only by tying the variable name we can call the store data eg:\n",
    "a\n",
    "\n",
    "##STRING\n",
    "\n",
    "\n",
    "#while string is a type of data when we write a sentence or word and encolse that word with \" \" name as string \n",
    "#eg:-\n",
    "\"nitu\" \n",
    "   #(this is a name but this is encolsed between \" \" so now this called as string in python)\n",
    "    "
   ]
  },
  {
   "cell_type": "code",
   "execution_count": null,
   "id": "73c482ca",
   "metadata": {},
   "outputs": [],
   "source": [
    "#3"
   ]
  },
  {
   "cell_type": "code",
   "execution_count": 17,
   "id": "4e606163",
   "metadata": {},
   "outputs": [
    {
     "data": {
      "text/plain": [
       "int"
      ]
     },
     "execution_count": 17,
     "metadata": {},
     "output_type": "execute_result"
    }
   ],
   "source": [
    "####          3. Describe three different data types.\n",
    "a=789\n",
    "b=\"nitukumari\"\n",
    "c=89.2\n",
    "#now if we search for the type of above datas\n",
    "type(a) # data type of a is showing int it means integer .....if we write any numerical or number this comes under integer\n",
    "\n"
   ]
  },
  {
   "cell_type": "code",
   "execution_count": 18,
   "id": "3f90f2c5",
   "metadata": {},
   "outputs": [
    {
     "data": {
      "text/plain": [
       "str"
      ]
     },
     "execution_count": 18,
     "metadata": {},
     "output_type": "execute_result"
    }
   ],
   "source": [
    "type(b) # when we write words or sentences in (\" \") inverted commas termed as string"
   ]
  },
  {
   "cell_type": "code",
   "execution_count": 15,
   "id": "a4b59b9d",
   "metadata": {},
   "outputs": [
    {
     "data": {
      "text/plain": [
       "float"
      ]
     },
     "execution_count": 15,
     "metadata": {},
     "output_type": "execute_result"
    }
   ],
   "source": [
    "type(c)##  the numeric values with decimals or decimals number is termed as float"
   ]
  },
  {
   "cell_type": "code",
   "execution_count": null,
   "id": "2d43d479",
   "metadata": {},
   "outputs": [],
   "source": [
    "#4"
   ]
  },
  {
   "cell_type": "code",
   "execution_count": 4,
   "id": "fb25d837",
   "metadata": {},
   "outputs": [],
   "source": [
    "###       4. What is an expression made up of? What do all expressions do?\n",
    "\n",
    "##expressions are made up of operators and operands that is interpreted to produce some values. expression provides single\n",
    "##values as per the precedence of its oprator."
   ]
  },
  {
   "cell_type": "code",
   "execution_count": null,
   "id": "bb97906a",
   "metadata": {},
   "outputs": [],
   "source": [
    "#5"
   ]
  },
  {
   "cell_type": "code",
   "execution_count": 5,
   "id": "565ed5b0",
   "metadata": {},
   "outputs": [],
   "source": [
    "####        5. This assignment statements, like spam = 10. What is the difference between an expression and a statement ??\n",
    "\n",
    "## a expression evalutes to a single value while a statement does not"
   ]
  },
  {
   "cell_type": "code",
   "execution_count": null,
   "id": "717931dc",
   "metadata": {},
   "outputs": [],
   "source": [
    "#6"
   ]
  },
  {
   "cell_type": "code",
   "execution_count": 23,
   "id": "6f254aa9",
   "metadata": {},
   "outputs": [
    {
     "data": {
      "text/plain": [
       "23"
      ]
     },
     "execution_count": 23,
     "metadata": {},
     "output_type": "execute_result"
    }
   ],
   "source": [
    "##6. After running the following code, what does the variable bacon contain?\n",
    "bacon = 22\n",
    "bacon + 1\n",
    "##i am unable to understand the question but still i am aswering\n",
    "#if we will run the above code it will give us 23 as answer but still the variable bacon contaions 22 because we have to \n",
    "#assign a new varible for the changes that we made in above code for example :-\n",
    "##if i am writtng bacon=bacon+1 in that case answer will be diffrent \n",
    "## now its giving me  answer"
   ]
  },
  {
   "cell_type": "code",
   "execution_count": 24,
   "id": "a58835e2",
   "metadata": {},
   "outputs": [
    {
     "data": {
      "text/plain": [
       "22"
      ]
     },
     "execution_count": 24,
     "metadata": {},
     "output_type": "execute_result"
    }
   ],
   "source": [
    "bacon"
   ]
  },
  {
   "cell_type": "code",
   "execution_count": 25,
   "id": "195a38e2",
   "metadata": {},
   "outputs": [],
   "source": [
    "bacon=22\n",
    "bacon=bacon+1"
   ]
  },
  {
   "cell_type": "code",
   "execution_count": 26,
   "id": "7ee02f9b",
   "metadata": {},
   "outputs": [
    {
     "data": {
      "text/plain": [
       "23"
      ]
     },
     "execution_count": 26,
     "metadata": {},
     "output_type": "execute_result"
    }
   ],
   "source": [
    "bacon"
   ]
  },
  {
   "cell_type": "code",
   "execution_count": 42,
   "id": "670294f7",
   "metadata": {},
   "outputs": [],
   "source": [
    "#7\n"
   ]
  },
  {
   "cell_type": "code",
   "execution_count": 27,
   "id": "a5ac71a2",
   "metadata": {},
   "outputs": [
    {
     "data": {
      "text/plain": [
       "'spamspamspam'"
      ]
     },
     "execution_count": 27,
     "metadata": {},
     "output_type": "execute_result"
    }
   ],
   "source": [
    "##7. What should the values of the following two term\n",
    "##'spam' + \"spamspam\"\n",
    "\"spam\"+\"spamspam\"\n"
   ]
  },
  {
   "cell_type": "code",
   "execution_count": 29,
   "id": "27f42302",
   "metadata": {},
   "outputs": [
    {
     "data": {
      "text/plain": [
       "'spamspamspam'"
      ]
     },
     "execution_count": 29,
     "metadata": {},
     "output_type": "execute_result"
    }
   ],
   "source": [
    "##spam *3\n",
    "'spam'*3"
   ]
  },
  {
   "cell_type": "code",
   "execution_count": 43,
   "id": "a1d91016",
   "metadata": {},
   "outputs": [],
   "source": [
    "#8"
   ]
  },
  {
   "cell_type": "code",
   "execution_count": 44,
   "id": "7d2b0a47",
   "metadata": {},
   "outputs": [],
   "source": [
    "##8. Why is eggs a valid variable name while 100 is invalid?\n",
    "## because a variable name cannot begin with a number\n"
   ]
  },
  {
   "cell_type": "code",
   "execution_count": 45,
   "id": "93294740",
   "metadata": {},
   "outputs": [],
   "source": [
    "#9"
   ]
  },
  {
   "cell_type": "code",
   "execution_count": 46,
   "id": "4eb2a2dd",
   "metadata": {},
   "outputs": [
    {
     "data": {
      "text/plain": [
       "6.0"
      ]
     },
     "execution_count": 46,
     "metadata": {},
     "output_type": "execute_result"
    }
   ],
   "source": [
    "##9. What three functions can be used to get the integer, floating-point number, or string version of a value?\n",
    "## to get string ,int,float we have to use different function function are following\n",
    "int(2)\n",
    "str(\"nitu\")\n",
    "float(6)"
   ]
  },
  {
   "cell_type": "code",
   "execution_count": 47,
   "id": "9ca471f4",
   "metadata": {},
   "outputs": [],
   "source": [
    "#10"
   ]
  },
  {
   "cell_type": "code",
   "execution_count": 48,
   "id": "7ef03002",
   "metadata": {},
   "outputs": [
    {
     "ename": "SyntaxError",
     "evalue": "EOL while scanning string literal (Temp/ipykernel_25948/3027475601.py, line 2)",
     "output_type": "error",
     "traceback": [
      "\u001b[1;36m  File \u001b[1;32m\"C:\\Users\\Asus\\AppData\\Local\\Temp/ipykernel_25948/3027475601.py\"\u001b[1;36m, line \u001b[1;32m2\u001b[0m\n\u001b[1;33m    \"I have eaten\"  + 99 +  \"burritos\"\".\u001b[0m\n\u001b[1;37m                                        ^\u001b[0m\n\u001b[1;31mSyntaxError\u001b[0m\u001b[1;31m:\u001b[0m EOL while scanning string literal\n"
     ]
    }
   ],
   "source": [
    "##10. Why does this expression cause an error?How can you fix it?\n",
    "\"I have eaten\"  + 99 +  \"burritos\"\".\n",
    "#we can solve it by changing int into string by using string function\n"
   ]
  },
  {
   "cell_type": "code",
   "execution_count": 49,
   "id": "6aa80d7a",
   "metadata": {},
   "outputs": [
    {
     "data": {
      "text/plain": [
       "'i have eaten  99 burritos'"
      ]
     },
     "execution_count": 49,
     "metadata": {},
     "output_type": "execute_result"
    }
   ],
   "source": [
    "\"i have eaten  \" +str(99)+ \" burritos\""
   ]
  },
  {
   "cell_type": "code",
   "execution_count": null,
   "id": "41882e80",
   "metadata": {},
   "outputs": [],
   "source": []
  }
 ],
 "metadata": {
  "kernelspec": {
   "display_name": "Python 3 (ipykernel)",
   "language": "python",
   "name": "python3"
  },
  "language_info": {
   "codemirror_mode": {
    "name": "ipython",
    "version": 3
   },
   "file_extension": ".py",
   "mimetype": "text/x-python",
   "name": "python",
   "nbconvert_exporter": "python",
   "pygments_lexer": "ipython3",
   "version": "3.9.7"
  }
 },
 "nbformat": 4,
 "nbformat_minor": 5
}
