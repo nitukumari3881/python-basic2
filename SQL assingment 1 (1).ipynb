{
 "cells": [
  {
   "cell_type": "code",
   "execution_count": null,
   "id": "55929e9b",
   "metadata": {},
   "outputs": [],
   "source": [
    "Q-1. Write an SQL query to fetch “FIRST_NAME” from Worker table using the alias\n",
    "name as <WORKER_NAME>.\n",
    "Q-2. Write an SQL query to fetch unique values of DEPARTMENT from Worker table.\n",
    "Q-3. Write an SQL query to show the last 5 record from a table."
   ]
  },
  {
   "cell_type": "markdown",
   "id": "5afa03e7",
   "metadata": {},
   "source": [
    "# Q-1. Write an SQL query to fetch “FIRST_NAME” from Worker table using the alias name as WORKER_NAME\n",
    "."
   ]
  },
  {
   "cell_type": "raw",
   "id": "875e0683",
   "metadata": {},
   "source": [
    "select firstname as worker_name from worker;"
   ]
  },
  {
   "cell_type": "markdown",
   "id": "945d5231",
   "metadata": {},
   "source": [
    "# Q-2. Write an SQL query to fetch unique values of DEPARTMENT from Worker table."
   ]
  },
  {
   "cell_type": "raw",
   "id": "9829720e",
   "metadata": {},
   "source": [
    "select distinct department as unique_department from worker;"
   ]
  },
  {
   "cell_type": "markdown",
   "id": "9be67068",
   "metadata": {},
   "source": [
    "# Q-3. Write an SQL query to show the last 5 record from a table."
   ]
  },
  {
   "cell_type": "raw",
   "id": "1c3d81cb",
   "metadata": {},
   "source": [
    "select * from student order by id desc limit 5;"
   ]
  }
 ],
 "metadata": {
  "kernelspec": {
   "display_name": "Python 3 (ipykernel)",
   "language": "python",
   "name": "python3"
  },
  "language_info": {
   "codemirror_mode": {
    "name": "ipython",
    "version": 3
   },
   "file_extension": ".py",
   "mimetype": "text/x-python",
   "name": "python",
   "nbconvert_exporter": "python",
   "pygments_lexer": "ipython3",
   "version": "3.9.7"
  }
 },
 "nbformat": 4,
 "nbformat_minor": 5
}
